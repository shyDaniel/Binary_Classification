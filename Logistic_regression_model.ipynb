{
  "nbformat": 4,
  "nbformat_minor": 0,
  "metadata": {
    "colab": {
      "name": "Logistic_regression_model.ipynb",
      "provenance": [],
      "collapsed_sections": [],
      "authorship_tag": "ABX9TyMi7AQJ7rRA++IB8wSVjRiR",
      "include_colab_link": true
    },
    "kernelspec": {
      "name": "python3",
      "display_name": "Python 3"
    }
  },
  "cells": [
    {
      "cell_type": "markdown",
      "metadata": {
        "id": "view-in-github",
        "colab_type": "text"
      },
      "source": [
        "<a href=\"https://colab.research.google.com/github/shyDaniel/Binary_Classification/blob/master/Logistic_regression_model.ipynb\" target=\"_parent\"><img src=\"https://colab.research.google.com/assets/colab-badge.svg\" alt=\"Open In Colab\"/></a>"
      ]
    },
    {
      "cell_type": "markdown",
      "metadata": {
        "id": "6GoNvkkHr2ur",
        "colab_type": "text"
      },
      "source": [
        "## **BINARY CLASSIFICATION - PREDICTING WHETHER A PERSON'S SALARY WILL BE HIGHER THAN $ 50,000, INCLUDING TWO DIFFERENT APPROACHES: DISCRIMINATIVE MODEL - LOGISTIC REGRESSION, AND A GENERATING PROBABILISTIC MODEL**\n",
        "\n",
        "# **This notebook contains the logistic regression model.**\n",
        "\n",
        "Kaggle: https://www.kaggle.com/c/ml2020spring-hw2/overview\n",
        "\n",
        "Hanyu Song 03/23/2020"
      ]
    },
    {
      "cell_type": "code",
      "metadata": {
        "id": "iDxJ6ExboIer",
        "colab_type": "code",
        "outputId": "47980624-6de0-49f1-e72d-3d002a7e91a2",
        "colab": {
          "base_uri": "https://localhost:8080/",
          "height": 289
        }
      },
      "source": [
        "import pandas as pd\n",
        "import numpy as np \n",
        "\n",
        "!gdown --id '1JuYMZyt0-jwVIwiVs-mgQE8i_O3QUyT3' --output Xtrain.zip\n",
        "!gdown --id '1iVZaPjgTmwwp683hV8cw-7Q2r3AunasO' --output Xtest.zip\n",
        "!gdown --id '1C0eGiL5azG49lnS45LxCdbrY0Ce4nNU2'\n",
        "!unzip Xtrain.zip\n",
        "!unzip Xtest.zip"
      ],
      "execution_count": 1,
      "outputs": [
        {
          "output_type": "stream",
          "text": [
            "Downloading...\n",
            "From: https://drive.google.com/uc?id=1JuYMZyt0-jwVIwiVs-mgQE8i_O3QUyT3\n",
            "To: /content/Xtrain.zip\n",
            "2.79MB [00:00, 87.6MB/s]\n",
            "Downloading...\n",
            "From: https://drive.google.com/uc?id=1iVZaPjgTmwwp683hV8cw-7Q2r3AunasO\n",
            "To: /content/Xtest.zip\n",
            "100% 1.42M/1.42M [00:00<00:00, 93.7MB/s]\n",
            "Downloading...\n",
            "From: https://drive.google.com/uc?id=1C0eGiL5azG49lnS45LxCdbrY0Ce4nNU2\n",
            "To: /content/Y_train\n",
            "100% 423k/423k [00:00<00:00, 110MB/s]\n",
            "Archive:  Xtrain.zip\n",
            "  inflating: X_train                 \n",
            "Archive:  Xtest.zip\n",
            "  inflating: X_test                  \n"
          ],
          "name": "stdout"
        }
      ]
    },
    {
      "cell_type": "markdown",
      "metadata": {
        "id": "kp_Jll9Tutxm",
        "colab_type": "text"
      },
      "source": [
        "## **LOGISTIC REGRESSION**"
      ]
    },
    {
      "cell_type": "markdown",
      "metadata": {
        "id": "NZ8r_cLHfRl5",
        "colab_type": "text"
      },
      "source": [
        "**CONVERTING DATASETS INTO NUMPY MATRICES**"
      ]
    },
    {
      "cell_type": "code",
      "metadata": {
        "id": "G2V-Dv24dFeT",
        "colab_type": "code",
        "colab": {}
      },
      "source": [
        "X_train_fpath = '/content/X_train'\n",
        "Y_train_fpath = '/content/Y_train'\n",
        "X_test_fpath = '/content/X_test'\n",
        "\n",
        "# Parse csv files to numpy array\n",
        "with open(X_train_fpath) as f:\n",
        "    next(f)\n",
        "    X_origin = np.array([line.strip('\\n').split(',')[1:] for line in f], dtype = float)\n",
        "with open(Y_train_fpath) as f:\n",
        "    next(f)\n",
        "    Y_origin = np.array([line.strip('\\n').split(',')[1] for line in f], dtype = float)\n",
        "with open(X_test_fpath) as f:\n",
        "    next(f)\n",
        "    X_test = np.array([line.strip('\\n').split(',')[1:] for line in f], dtype = float)"
      ],
      "execution_count": 0,
      "outputs": []
    },
    {
      "cell_type": "markdown",
      "metadata": {
        "id": "TUQo3yZMfbN3",
        "colab_type": "text"
      },
      "source": [
        "**NORMALIZATION**"
      ]
    },
    {
      "cell_type": "code",
      "metadata": {
        "id": "AZRgN5ftfavp",
        "colab_type": "code",
        "outputId": "3b4f3391-a00c-40e0-f6fe-828b1b9c8142",
        "colab": {
          "base_uri": "https://localhost:8080/",
          "height": 85
        }
      },
      "source": [
        "def _normalize(X, train = True, specified_column = None, X_mean = None, X_std = None):\n",
        "    # This function normalizes specific columns of X.\n",
        "    # The mean and standard variance of training data will be reused when processing testing data.\n",
        "    #\n",
        "    # Arguments:\n",
        "    #     X: data to be processed\n",
        "    #     train: 'True' when processing training data, 'False' for testing data\n",
        "    #     specific_column: indexes of the columns that will be normalized. If 'None', all columns\n",
        "    #         will be normalized.\n",
        "    #     X_mean: mean value of training data, used when train = 'False'\n",
        "    #     X_std: standard deviation of training data, used when train = 'False'\n",
        "    # Outputs:\n",
        "    #     X: normalized data\n",
        "    #     X_mean: computed mean value of training data\n",
        "    #     X_std: computed standard deviation of training data\n",
        "\n",
        "    if specified_column == None:\n",
        "        specified_column = np.arange(X.shape[1])\n",
        "    if train:\n",
        "        X_mean = np.mean(X[:, specified_column] ,0).reshape(1, -1)\n",
        "        X_std  = np.std(X[:, specified_column], 0).reshape(1, -1)\n",
        "\n",
        "    X[:,specified_column] = (X[:, specified_column] - X_mean) / (X_std + 1e-8)\n",
        "     \n",
        "    return X, X_mean, X_std\n",
        "\n",
        "def _train_dev_split(X, Y, dev_ratio = 0.25):\n",
        "    # This function spilts data into training set and development set.\n",
        "    train_size = int(len(X) * (1 - dev_ratio))\n",
        "    return X[:train_size], Y[:train_size], X[train_size:], Y[train_size:]\n",
        "\n",
        "# Normalize training and testing data\n",
        "X_origin, origin_mean, origin_std = _normalize(X_origin, train = True)\n",
        "X_test, _, _= _normalize(X_test, train = False, specified_column = None, X_mean = origin_mean, X_std = origin_std)\n",
        "    \n",
        "# Split data into training set and development set\n",
        "dev_ratio = 0.1\n",
        "X_train, Y_train, X_dev, Y_dev = _train_dev_split(X_origin, Y_origin, dev_ratio = dev_ratio)\n",
        "\n",
        "train_size = X_train.shape[0]\n",
        "dev_size = X_dev.shape[0]\n",
        "test_size = X_test.shape[0]\n",
        "data_dim = X_train.shape[1]\n",
        "print('Size of training set: {}'.format(train_size))\n",
        "print('Size of development set: {}'.format(dev_size))\n",
        "print('Size of testing set: {}'.format(test_size))\n",
        "print('Dimension of data: {}'.format(data_dim))"
      ],
      "execution_count": 3,
      "outputs": [
        {
          "output_type": "stream",
          "text": [
            "Size of training set: 48830\n",
            "Size of development set: 5426\n",
            "Size of testing set: 27622\n",
            "Dimension of data: 510\n"
          ],
          "name": "stdout"
        }
      ]
    },
    {
      "cell_type": "markdown",
      "metadata": {
        "id": "Zbpp92IBlw5U",
        "colab_type": "text"
      },
      "source": [
        "**Some useful functions in Logistic Regression**"
      ]
    },
    {
      "cell_type": "code",
      "metadata": {
        "id": "4rNZx6FXlwfH",
        "colab_type": "code",
        "colab": {}
      },
      "source": [
        "def _shuffle(X, Y):\n",
        "    # This function shuffles two equal-length list/array, X and Y, together.\n",
        "    randomize = np.arange(len(X))\n",
        "    np.random.shuffle(randomize)\n",
        "    return (X[randomize], Y[randomize])\n",
        "\n",
        "def _sigmoid(z):\n",
        "    # Sigmoid function can be used to calculate probability.\n",
        "    # To avoid overflow, minimum/maximum output value is set.\n",
        "    return np.clip(1 / (1.0 + np.exp(-z)), 1e-8, 1 - (1e-8))\n",
        "\n",
        "def _f(X, w, b):\n",
        "    # This is the logistic regression function, parameterized by w and b\n",
        "    #\n",
        "    # Arguements:\n",
        "    #     X: input data, shape = [batch_size, data_dimension]\n",
        "    #     w: weight vector, shape = [data_dimension, ]\n",
        "    #     b: bias, scalar\n",
        "    # Output:\n",
        "    #     predicted probability of each row of X being positively labeled, shape = [batch_size, ]\n",
        "    return _sigmoid(np.dot(X, w) + b)\n",
        "\n",
        "def _predict(X, w, b):\n",
        "    # This function returns a truth value prediction for each row of X \n",
        "    # by rounding the result of logistic regression function.\n",
        "    return np.round(_f(X, w, b)).astype(np.int)\n",
        "    \n",
        "def _accuracy(Y_pred, Y_label):\n",
        "    # This function calculates prediction accuracy\n",
        "    acc = 1 - np.mean(np.abs(Y_pred - Y_label))\n",
        "    return acc"
      ],
      "execution_count": 0,
      "outputs": []
    },
    {
      "cell_type": "markdown",
      "metadata": {
        "id": "6sz3VMQ1jJI1",
        "colab_type": "text"
      },
      "source": [
        "**CROSS-ENTROPY**"
      ]
    },
    {
      "cell_type": "code",
      "metadata": {
        "id": "qSY9mOK8e3vw",
        "colab_type": "code",
        "colab": {}
      },
      "source": [
        "def _cross_entropy_loss(y_pred, Y_label):\n",
        "    # This function computes the cross entropy.\n",
        "    #\n",
        "    # Arguements:\n",
        "    #     y_pred: probabilistic predictions, float vector\n",
        "    #     Y_label: ground truth labels, bool vector\n",
        "    # Output:\n",
        "    #     cross entropy, scalar\n",
        "    cross_entropy = -np.dot(Y_label, np.log(y_pred)) - np.dot((1 - Y_label), np.log(1 - y_pred))\n",
        "    return cross_entropy\n",
        "\n",
        "def _gradient(X, Y_label, w, b):\n",
        "    # This function computes the gradient of cross entropy loss with respect to weight w and bias b.\n",
        "    y_pred = _f(X, w, b)\n",
        "    pred_error = Y_label - y_pred\n",
        "    w_grad = -np.sum(pred_error * X.T, 1) # ELEMENT-WISE PRODUCTION\n",
        "    b_grad = -np.sum(pred_error)\n",
        "    return w_grad, b_grad"
      ],
      "execution_count": 0,
      "outputs": []
    },
    {
      "cell_type": "markdown",
      "metadata": {
        "id": "NOlP_BbwmnRo",
        "colab_type": "text"
      },
      "source": [
        "**ADJUSTING PARAMETERS USING TRAINING AND DEVELOPMENT DATASET**"
      ]
    },
    {
      "cell_type": "code",
      "metadata": {
        "id": "4mfLFQDcjGrw",
        "colab_type": "code",
        "outputId": "991fd91f-2f7b-4a4a-f588-19f8b4bbbf45",
        "colab": {
          "base_uri": "https://localhost:8080/",
          "height": 255
        }
      },
      "source": [
        "# Zero initialization for weights ans bias\n",
        "w = np.zeros((data_dim,)) \n",
        "b = np.zeros((1,))\n",
        "\n",
        "# Some parameters for training    \n",
        "max_iter = 1000\n",
        "learning_rate = 0.1\n",
        "\n",
        "# Keep the loss and accuracy at every iteration for plotting\n",
        "train_loss = []\n",
        "dev_loss = []\n",
        "train_acc = []\n",
        "dev_acc = []\n",
        "\n",
        "# Use adagrad to optimize learning rate\n",
        "adagradw = np.zeros((data_dim,))\n",
        "adagradb = 0\n",
        "eps = 0.0000000001\n",
        "\n",
        "# Iterative training\n",
        "for epoch in range(max_iter):\n",
        "    # Random shuffle at the begging of each epoch\n",
        "    X, Y = _shuffle(X_train, Y_train)\n",
        "\n",
        "    # Compute the gradient\n",
        "    w_grad, b_grad = _gradient(X, Y, w, b)\n",
        "        \n",
        "    adagradw += w_grad ** 2\n",
        "    adagradb += b_grad ** 2\n",
        "\n",
        "    # gradient descent update\n",
        "    # learning rate decay with time\n",
        "    w = w - learning_rate/np.sqrt(adagradw + eps) * w_grad\n",
        "    b = b - learning_rate/np.sqrt(adagradb + eps) * b_grad\n",
        "\n",
        "    # Compute loss and accuracy of training set and development set\n",
        "    y_train_pred = _f(X_train, w, b)\n",
        "    Y_train_pred = np.round(y_train_pred)\n",
        "    train_acc.append(_accuracy(Y_train_pred, Y_train))\n",
        "    curloss = _cross_entropy_loss(y_train_pred, Y_train) / train_size\n",
        "    train_loss.append(curloss)\n",
        "\n",
        "    y_dev_pred = _f(X_dev, w, b)\n",
        "    Y_dev_pred = np.round(y_dev_pred)\n",
        "    dev_acc.append(_accuracy(Y_dev_pred, Y_dev))\n",
        "    dev_loss.append(_cross_entropy_loss(y_dev_pred, Y_dev) / dev_size)\n",
        "\n",
        "    if (epoch % 100 == 0):\n",
        "      print(\"The \",epoch,\"th iteration has loss: \",curloss)\n",
        "\n",
        "\n",
        "print('Training loss: {}'.format(train_loss[-1]))\n",
        "print('Development loss: {}'.format(dev_loss[-1]))\n",
        "print('Training accuracy: {}'.format(train_acc[-1]))\n",
        "print('Development accuracy: {}'.format(dev_acc[-1]))"
      ],
      "execution_count": 89,
      "outputs": [
        {
          "output_type": "stream",
          "text": [
            "The  0 th iteration has loss:  1.2037848087908722\n",
            "The  100 th iteration has loss:  0.2969484910003236\n",
            "The  200 th iteration has loss:  0.2790558065055122\n",
            "The  300 th iteration has loss:  0.2727755672893826\n",
            "The  400 th iteration has loss:  0.26973418901619667\n",
            "The  500 th iteration has loss:  0.26800017848525526\n",
            "The  600 th iteration has loss:  0.2669115830782594\n",
            "The  700 th iteration has loss:  0.2661839469576886\n",
            "The  800 th iteration has loss:  0.2656754029176788\n",
            "The  900 th iteration has loss:  0.26530764435467885\n",
            "Training loss: 0.26503664602557603\n",
            "Development loss: 0.28435965942413066\n",
            "Training accuracy: 0.8862789268892075\n",
            "Development accuracy: 0.877441946185035\n"
          ],
          "name": "stdout"
        }
      ]
    },
    {
      "cell_type": "markdown",
      "metadata": {
        "id": "EWlp9Q6j2ylL",
        "colab_type": "text"
      },
      "source": [
        "**PLOT LOSS CURVE FOR TRAIN/DEV**"
      ]
    },
    {
      "cell_type": "code",
      "metadata": {
        "id": "Gbnk8bgl2xku",
        "colab_type": "code",
        "outputId": "0dfc4338-a145-47fd-e2d3-d3750f8db689",
        "colab": {
          "base_uri": "https://localhost:8080/",
          "height": 545
        }
      },
      "source": [
        "import matplotlib.pyplot as plt\n",
        "\n",
        "# Loss curve\n",
        "plt.plot(train_loss)\n",
        "plt.plot(dev_loss)\n",
        "plt.title('Loss')\n",
        "plt.legend(['train', 'dev'])\n",
        "plt.savefig('loss.png')\n",
        "plt.show()\n",
        "\n",
        "# Accuracy curve\n",
        "plt.plot(train_acc)\n",
        "plt.plot(dev_acc)\n",
        "plt.title('Accuracy')\n",
        "plt.legend(['train', 'dev'])\n",
        "plt.savefig('acc.png')\n",
        "plt.show()"
      ],
      "execution_count": 94,
      "outputs": [
        {
          "output_type": "display_data",
          "data": {
            "image/png": "[encoded data removed]",
            "text/plain": [
              "<Figure size 432x288 with 1 Axes>"
            ]
          },
          "metadata": {
            "tags": []
          }
        },
        {
          "output_type": "display_data",
          "data": {
            "image/png": "[encoded data removed]",
            "text/plain": [
              "<Figure size 432x288 with 1 Axes>"
            ]
          },
          "metadata": {
            "tags": []
          }
        }
      ]
    },
    {
      "cell_type": "markdown",
      "metadata": {
        "id": "Sx2JVEkxkMFC",
        "colab_type": "text"
      },
      "source": [
        "**TRAINING USING THE WHOLTE TRAINING DATASET**"
      ]
    },
    {
      "cell_type": "code",
      "metadata": {
        "id": "UDToVYNIBfFw",
        "colab_type": "code",
        "outputId": "cba46dd3-ed1a-4a95-8d87-9c59d7c1df78",
        "colab": {
          "base_uri": "https://localhost:8080/",
          "height": 391
        }
      },
      "source": [
        "# Zero initialization for weights ans bias\n",
        "w = np.zeros((data_dim,)) \n",
        "b = np.zeros((1,))\n",
        "max_iter = 2000\n",
        "learning_rate = 0.1\n",
        "\n",
        "# Keep the loss and accuracy at every iteration for plotting\n",
        "train_loss = []\n",
        "train_acc = []\n",
        "\n",
        "# Use adagrad to optimize learning rate\n",
        "adagradw = np.zeros((data_dim,))\n",
        "adagradb = 0\n",
        "eps = 0.0000000001\n",
        "\n",
        "# Iterative training\n",
        "for i in range(max_iter):\n",
        "    # Random shuffle at the begging of each epoch\n",
        "    X, Y = _shuffle(X_origin, Y_origin)\n",
        "\n",
        "    # Compute the gradient\n",
        "    w_grad, b_grad = _gradient(X, Y, w, b)\n",
        "        \n",
        "    adagradw += w_grad ** 2\n",
        "    adagradb += b_grad ** 2\n",
        "\n",
        "    # gradient descent update\n",
        "    # learning rate decay with time\n",
        "    w = w - learning_rate/np.sqrt(adagradw + eps) * w_grad\n",
        "    b = b - learning_rate/np.sqrt(adagradb + eps) * b_grad\n",
        "            \n",
        "    # Compute loss and accuracy of training set and development set\n",
        "    total_train_pred = _f(X_origin, w, b)\n",
        "    real_train_pred = np.round(total_train_pred)\n",
        "    train_acc.append(_accuracy(real_train_pred, Y_origin))\n",
        "    cur_loss = _cross_entropy_loss(total_train_pred, Y_origin) / X_origin.shape[0]\n",
        "    train_loss.append(cur_loss)\n",
        "\n",
        "    if (i % 100 == 0):\n",
        "      print (\"In the \",i,\" th iteration, the loss is: \", cur_loss)\n",
        "\n",
        "print('Training loss: {}'.format(train_loss[-1]))\n",
        "print('Training accuracy: {}'.format(train_acc[-1]))"
      ],
      "execution_count": 23,
      "outputs": [
        {
          "output_type": "stream",
          "text": [
            "In the  0  th iteration, the loss is:  1.2082424105447893\n",
            "In the  100  th iteration, the loss is:  0.29820936388098795\n",
            "In the  200  th iteration, the loss is:  0.28041745976243515\n",
            "In the  300  th iteration, the loss is:  0.27417872527307424\n",
            "In the  400  th iteration, the loss is:  0.27115958813209784\n",
            "In the  500  th iteration, the loss is:  0.2694411055632978\n",
            "In the  600  th iteration, the loss is:  0.2683649051336977\n",
            "In the  700  th iteration, the loss is:  0.267647575090963\n",
            "In the  800  th iteration, the loss is:  0.2671476223051692\n",
            "In the  900  th iteration, the loss is:  0.2667869830707502\n",
            "In the  1000  th iteration, the loss is:  0.2665194873022818\n",
            "In the  1100  th iteration, the loss is:  0.2663164027648203\n",
            "In the  1200  th iteration, the loss is:  0.26615912834163385\n",
            "In the  1300  th iteration, the loss is:  0.2660352256495962\n",
            "In the  1400  th iteration, the loss is:  0.26593614502605706\n",
            "In the  1500  th iteration, the loss is:  0.265855867078109\n",
            "In the  1600  th iteration, the loss is:  0.26579006316108517\n",
            "In the  1700  th iteration, the loss is:  0.26573556132278076\n",
            "In the  1800  th iteration, the loss is:  0.2656899978023879\n",
            "In the  1900  th iteration, the loss is:  0.2656515843564137\n",
            "Training loss: 0.26561925111228174\n",
            "Training accuracy: 0.8858743733411973\n"
          ],
          "name": "stdout"
        }
      ]
    },
    {
      "cell_type": "markdown",
      "metadata": {
        "id": "lMJfkpJW5dKA",
        "colab_type": "text"
      },
      "source": [
        "**VISUALIZING TRAINING RESULT**"
      ]
    },
    {
      "cell_type": "code",
      "metadata": {
        "id": "afTqcfzW5iic",
        "colab_type": "code",
        "colab": {
          "base_uri": "https://localhost:8080/",
          "height": 545
        },
        "outputId": "294c00bc-bf3b-4a54-89c9-e30bcce74b41"
      },
      "source": [
        "import matplotlib.pyplot as plt\n",
        "# Loss curve\n",
        "plt.plot(train_loss)\n",
        "plt.title('Loss')\n",
        "plt.legend(['total_train'])\n",
        "plt.savefig('loss.png')\n",
        "plt.show()\n",
        "\n",
        "# Accuracy curve\n",
        "plt.plot(train_acc)\n",
        "plt.title('Accuracy')\n",
        "plt.legend(['train'])\n",
        "plt.savefig('acc.png')\n",
        "plt.show()\n",
        "\n",
        "np.save('model_weights.npy', w)\n",
        "np.save('constant.npy', b)"
      ],
      "execution_count": 24,
      "outputs": [
        {
          "output_type": "display_data",
          "data": {
            "image/png": "[encoded data removed]",
            "text/plain": [
              "<Figure size 432x288 with 1 Axes>"
            ]
          },
          "metadata": {
            "tags": []
          }
        },
        {
          "output_type": "display_data",
          "data": {
            "image/png": "[encoded data removed]",
            "text/plain": [
              "<Figure size 432x288 with 1 Axes>"
            ]
          },
          "metadata": {
            "tags": []
          }
        }
      ]
    },
    {
      "cell_type": "markdown",
      "metadata": {
        "id": "l26aVSboD11s",
        "colab_type": "text"
      },
      "source": [
        "## **Predicting**"
      ]
    },
    {
      "cell_type": "code",
      "metadata": {
        "id": "FSQftxKFD1pE",
        "colab_type": "code",
        "colab": {}
      },
      "source": [
        "# Predict testing labels\n",
        "weights = np.load('model_weights.npy')\n",
        "cons = np.load('constant.npy')\n",
        "predictions = _predict(X_test, weights, cons)"
      ],
      "execution_count": 0,
      "outputs": []
    },
    {
      "cell_type": "markdown",
      "metadata": {
        "id": "7JBKsqLfEYkZ",
        "colab_type": "text"
      },
      "source": [
        "## **Save result to a csv file**"
      ]
    },
    {
      "cell_type": "code",
      "metadata": {
        "id": "xs3P4Y_KEYbo",
        "colab_type": "code",
        "colab": {}
      },
      "source": [
        "df = pd.DataFrame(np.empty((predictions.shape[0], 2)), index = np.arange(predictions.shape[0]) + 1, columns = ['id', 'label'], dtype = int)\n",
        "for i in range (predictions.shape[0]):\n",
        "  df.iloc[i, 0] = i\n",
        "  df.iloc[i, 1] = predictions[i]\n",
        "df.to_csv('submission.csv', index = False)"
      ],
      "execution_count": 0,
      "outputs": []
    }
  ]
}